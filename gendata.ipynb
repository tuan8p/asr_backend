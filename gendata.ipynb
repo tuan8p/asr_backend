{
 "cells": [
  {
   "cell_type": "code",
   "execution_count": 1,
   "id": "13f40ba2",
   "metadata": {},
   "outputs": [
    {
     "name": "stdout",
     "output_type": "stream",
     "text": [
      "Requirement already satisfied: requests in c:\\users\\lenovo\\anaconda3\\envs\\aio_hutech\\lib\\site-packages (2.32.3)\n",
      "Requirement already satisfied: charset-normalizer<4,>=2 in c:\\users\\lenovo\\anaconda3\\envs\\aio_hutech\\lib\\site-packages (from requests) (3.3.2)\n",
      "Requirement already satisfied: idna<4,>=2.5 in c:\\users\\lenovo\\anaconda3\\envs\\aio_hutech\\lib\\site-packages (from requests) (3.7)\n",
      "Requirement already satisfied: urllib3<3,>=1.21.1 in c:\\users\\lenovo\\anaconda3\\envs\\aio_hutech\\lib\\site-packages (from requests) (2.3.0)\n",
      "Requirement already satisfied: certifi>=2017.4.17 in c:\\users\\lenovo\\anaconda3\\envs\\aio_hutech\\lib\\site-packages (from requests) (2025.1.31)\n",
      "Requirement already satisfied: pydub in c:\\users\\lenovo\\anaconda3\\envs\\aio_hutech\\lib\\site-packages (0.25.1)\n"
     ]
    }
   ],
   "source": [
    "!pip install requests\n",
    "!pip install pydub"
   ]
  },
  {
   "cell_type": "markdown",
   "id": "45017996",
   "metadata": {},
   "source": [
    "Chạy thử gen 1 audio"
   ]
  },
  {
   "cell_type": "code",
   "execution_count": null,
   "id": "bb096159",
   "metadata": {},
   "outputs": [
    {
     "name": "stdout",
     "output_type": "stream",
     "text": [
      "Error: 200 - {\"data\":{\"url\":\"https://chunk-v3.tts.zalo.ai/secure/aab1bf8cd2fd3ba362ec/aab1bf8cd2fd3ba362ec.wav?expires=1747732888&md5=4AfonHDCyQuNKteGbdF9Zw\"},\"error_code\":0,\"error_message\":\"Successful.\"}\n",
      "{'data': {'url': 'https://chunk-v3.tts.zalo.ai/secure/aab1bf8cd2fd3ba362ec/aab1bf8cd2fd3ba362ec.wav?expires=1747732888&md5=4AfonHDCyQuNKteGbdF9Zw'}, 'error_code': 0, 'error_message': 'Successful.'}\n"
     ]
    }
   ],
   "source": [
    "import requests\n",
    "\n",
    "# URL của API Zalo TTS\n",
    "url = \"https://api.zalo.ai/v1/tts/synthesize\"\n",
    "\n",
    "data = {\n",
    "    \"input\": \"Bật đèn 1\",  # Văn bản cần chuyển đổi thành giọng nói\n",
    "    \"speaker_id\": 3,  # ID giọng nói (có thể chọn theo giới tính, vùng miền, v.v.)\n",
    "    \"speed\": 1.2  # Tốc độ giọng nói\n",
    "}\n",
    "\n",
    "headers = {\n",
    "    # \"apikey\": \"API_KEY\"  # Thay your_api_key_here bằng API Key của bạn\n",
    "}\n",
    "\n",
    "response = requests.post(url, data=data, headers=headers)\n",
    "\n",
    "# Kiểm tra xem request có thành công không\n",
    "if response.status_code == 0:\n",
    "    print(response.json())\n",
    "else:\n",
    "    print(f\"Error: {response.status_code} - {response.text}\")\n",
    "\n",
    "\n",
    "print(response.json())"
   ]
  },
  {
   "cell_type": "code",
   "execution_count": null,
   "id": "c365fc92",
   "metadata": {},
   "outputs": [
    {
     "name": "stdout",
     "output_type": "stream",
     "text": [
      "{\"async\":\"https://file01.fpt.ai/text2speech-v5/short/2025-05-18/f355ae332baaafba9d884718ed2ebd27.wav\",\"error\":0,\"message\":\"The content will be returned after a few seconds under the async link.\",\"request_id\":\"68729329-8113-499b-a282-a7b31efa4874\"}\n"
     ]
    }
   ],
   "source": [
    "import requests\n",
    "\n",
    "url = 'https://api.fpt.ai/hmi/tts/v5'\n",
    "\n",
    "payload = 'chào chị Vi'\n",
    "headers = {\n",
    "    'api-key': 'API_KEY',\n",
    "    'speed': '3',\n",
    "    'voice': 'banmai',\n",
    "    'format': 'wav'\n",
    "}\n",
    "\n",
    "response = requests.request('POST', url, data=payload.encode('utf-8'), headers=headers)\n",
    "\n",
    "print(response.text)\n"
   ]
  },
  {
   "cell_type": "code",
   "execution_count": null,
   "id": "5d31c0b4",
   "metadata": {},
   "outputs": [
    {
     "name": "stdout",
     "output_type": "stream",
     "text": [
      "D:\\Downloads\\Đồ án_Voice\\dataset_custom\\vi\\clip_durations.tsv\n",
      "Len Audio URLs: 9\n",
      "['https://file01.fpt.ai/text2speech-v5/short/2025-05-18/66668bd41887ca6f45b2917eaa10896c.wav', 'https://file01.fpt.ai/text2speech-v5/short/2025-05-18/46b0b5524f336ee80cf216d94302c81f.wav', 'https://file01.fpt.ai/text2speech-v5/short/2025-05-18/b4652a372238626ade8fbb4e21c9257a.wav', 'https://file01.fpt.ai/text2speech-v5/short/2025-05-18/fee7b8a860f9766d72783ff85e4325f9.wav', 'https://file01.fpt.ai/text2speech-v5/short/2025-05-18/c7f797a1468b7afff94e329f9bd0319a.wav', 'https://file01.fpt.ai/text2speech-v5/short/2025-05-18/dabb68b4bb09f9aeb6d55ba9c46e47d9.wav', 'https://file01.fpt.ai/text2speech-v5/short/2025-05-18/0639e46a9f1a3015b29796cb2732e7d3.wav', 'https://file01.fpt.ai/text2speech-v5/short/2025-05-18/4a0e5c557b9e2de05f1be9658c0c5bb8.wav', 'https://file01.fpt.ai/text2speech-v5/short/2025-05-18/a2a4414fda324be6a65e046fcff1272b.wav']\n"
     ]
    }
   ],
   "source": [
    "import requests\n",
    "import os\n",
    "import pandas as pd\n",
    "from urllib.parse import urlparse\n",
    "from pydub.utils import mediainfo\n",
    "# Hàm để tải file âm thanh về từ URL\n",
    "def download_audio(audio_url, filename):\n",
    "    try:\n",
    "        response = requests.get(audio_url, timeout=10)\n",
    "        response.raise_for_status()  # Kiểm tra nếu có lỗi trong quá trình tải\n",
    "        with open(filename, 'wb') as f:\n",
    "            f.write(response.content)\n",
    "        print(f\"Audio downloaded: {filename}\")\n",
    "        return True\n",
    "    except Exception as e:\n",
    "        print(f\"{e}\")\n",
    "        return False\n",
    "\n",
    "# Hàm gọi API Zalo TTS và trả về URL của audio\n",
    "def call_tts_api_zl(command_text, speaker_id, speed=1.2, api_key='API_KEY'):\n",
    "    url = \"https://api.zalo.ai/v1/tts/synthesize\"\n",
    "    data = {\n",
    "        \"input\": command_text,\n",
    "        \"speaker_id\": speaker_id,\n",
    "        \"speed\": speed\n",
    "    }\n",
    "    headers = {\n",
    "        \"apikey\": api_key\n",
    "    }\n",
    "\n",
    "    response = requests.post(url, data=data, headers=headers)\n",
    "\n",
    "    if response.status_code == 200:\n",
    "        audio_url = response.json().get(\"data\").get(\"url\")\n",
    "        return audio_url\n",
    "    else:\n",
    "        print(f\"Error: {response.status_code} - {response.text}\")\n",
    "        return None\n",
    "\n",
    "def call_tts_api_fpt(command_text, speaker_id, speed='3', api_key='API_KEY'):\n",
    "    url = \"https://api.fpt.ai/hmi/tts/v5\"\n",
    "\n",
    "    headers = {\n",
    "        \"api-key\": api_key,\n",
    "        \"speed\": speed,\n",
    "        \"voice\": speaker[speaker_id],\n",
    "        \"format\": 'wav'\n",
    "    }\n",
    "\n",
    "    response = requests.post(url, data=command_text.encode('utf-8'), headers=headers)\n",
    "\n",
    "    if response.status_code == 200:\n",
    "        audio_url = response.json().get(\"async\")\n",
    "        return audio_url\n",
    "    else:\n",
    "        print(f\"Error: {response.status_code} - {response.text}\")\n",
    "        return None\n",
    "\n",
    "# Hàm tính độ dài của file audio (dựa vào thời gian)\n",
    "def get_audio_duration(filename):\n",
    "    try:\n",
    "        info = mediainfo(filename)\n",
    "        duration = float(info['duration'])\n",
    "        print(f\"Duration of {filename}: {duration} seconds\")\n",
    "        return duration\n",
    "    except Exception as e:\n",
    "        print(f\"Error getting duration for {filename}: {e}\")\n",
    "        return None\n",
    "\n",
    "DATA_DIR = r\"D:\\Downloads\\Đồ án_Voice\\dataset_custom\\vi\"\n",
    "CLIP_DURATIONS_PATH = os.path.join(DATA_DIR, \"clip_durations.tsv\")\n",
    "VALIDATED_PATH = os.path.join(DATA_DIR, \"validated.tsv\")\n",
    "print(CLIP_DURATIONS_PATH)\n",
    "commands_df = pd.read_csv('commands.tsv', sep='\\t')\n",
    "\n",
    "gender = {1: 'female_feminine', 2: 'female_feminine', 3: 'male_masculine', 4: 'male_masculine',\n",
    "          5: 'female_feminine', 6: 'male_masculine', 7: 'male_masculine', 8: 'male_masculine',\n",
    "          9: 'female_feminine', 10: 'female_feminine', 11: 'female_feminine', 12: 'female_feminine'}\n",
    "accents = {1: 'south', 2: 'northern', 3: 'south', 4: 'northern',\n",
    "           5: 'central', 6: 'south', 7: 'central', 8: 'northerm',\n",
    "           9: 'south', 10: 'south', 11: 'central', 12: 'northern'}\n",
    "\n",
    "speaker = {5: 'myan', 6: 'minhquang', 7: 'giahuy', 8: 'leminh', \n",
    "           9: 'linhsan', 10: 'lannhi', 11: 'ngoclam', 12: 'banmai'}\n",
    "\n",
    "speaker_id = [1, 2, 3, 4, 5, 6, 7, 8, 9, 10, 11, 12]\n",
    "audio_urls = []\n",
    "command_locale = 'vi'\n",
    "\n",
    "\n",
    "for si in speaker_id:\n",
    "    for index, row in commands_df.iterrows():\n",
    "        command = row['command']\n",
    "        command_id = row['id']\n",
    "\n",
    "        if si in [1, 2, 3, 4]:\n",
    "            audio_url = call_tts_api_zl(command, speaker_id=si)\n",
    "        else:\n",
    "            audio_url = call_tts_api_fpt(command, speaker_id=si)\n",
    "        # audio_url = response.json().get(\"data\").get(\"url\")\n",
    "        # print(f\"Audio URL: {audio_url}\")\n",
    "        if audio_url:\n",
    "            audio_urls.append(audio_url)\n",
    "\n",
    "\n",
    "print(\"Len Audio URLs:\", len(audio_urls))\n",
    "print(audio_urls)\n"
   ]
  },
  {
   "cell_type": "code",
   "execution_count": null,
   "id": "7b75b427",
   "metadata": {},
   "outputs": [
    {
     "name": "stdout",
     "output_type": "stream",
     "text": [
      "Audio downloaded: D:\\Downloads\\Đồ án_Voice\\dataset_custom\\vi\\clip\\66668bd41887ca6f45b2917eaa10896c.wav\n",
      "Name: 66668bd41887ca6f45b2917eaa10896c.wav, Audio URL: https://file01.fpt.ai/text2speech-v5/short/2025-05-18/66668bd41887ca6f45b2917eaa10896c.wav\n",
      "Duration of D:\\Downloads\\Đồ án_Voice\\dataset_custom\\vi\\clip\\66668bd41887ca6f45b2917eaa10896c.wav: 0.801563 seconds\n",
      "Audio downloaded: D:\\Downloads\\Đồ án_Voice\\dataset_custom\\vi\\clip\\46b0b5524f336ee80cf216d94302c81f.wav\n",
      "Name: 46b0b5524f336ee80cf216d94302c81f.wav, Audio URL: https://file01.fpt.ai/text2speech-v5/short/2025-05-18/46b0b5524f336ee80cf216d94302c81f.wav\n",
      "Duration of D:\\Downloads\\Đồ án_Voice\\dataset_custom\\vi\\clip\\46b0b5524f336ee80cf216d94302c81f.wav: 0.738563 seconds\n",
      "Audio downloaded: D:\\Downloads\\Đồ án_Voice\\dataset_custom\\vi\\clip\\b4652a372238626ade8fbb4e21c9257a.wav\n",
      "Name: b4652a372238626ade8fbb4e21c9257a.wav, Audio URL: https://file01.fpt.ai/text2speech-v5/short/2025-05-18/b4652a372238626ade8fbb4e21c9257a.wav\n",
      "Duration of D:\\Downloads\\Đồ án_Voice\\dataset_custom\\vi\\clip\\b4652a372238626ade8fbb4e21c9257a.wav: 1.162063 seconds\n",
      "Audio downloaded: D:\\Downloads\\Đồ án_Voice\\dataset_custom\\vi\\clip\\fee7b8a860f9766d72783ff85e4325f9.wav\n",
      "Name: fee7b8a860f9766d72783ff85e4325f9.wav, Audio URL: https://file01.fpt.ai/text2speech-v5/short/2025-05-18/fee7b8a860f9766d72783ff85e4325f9.wav\n",
      "Duration of D:\\Downloads\\Đồ án_Voice\\dataset_custom\\vi\\clip\\fee7b8a860f9766d72783ff85e4325f9.wav: 1.011563 seconds\n",
      "Audio downloaded: D:\\Downloads\\Đồ án_Voice\\dataset_custom\\vi\\clip\\c7f797a1468b7afff94e329f9bd0319a.wav\n",
      "Name: c7f797a1468b7afff94e329f9bd0319a.wav, Audio URL: https://file01.fpt.ai/text2speech-v5/short/2025-05-18/c7f797a1468b7afff94e329f9bd0319a.wav\n",
      "Duration of D:\\Downloads\\Đồ án_Voice\\dataset_custom\\vi\\clip\\c7f797a1468b7afff94e329f9bd0319a.wav: 0.997563 seconds\n",
      "Audio downloaded: D:\\Downloads\\Đồ án_Voice\\dataset_custom\\vi\\clip\\dabb68b4bb09f9aeb6d55ba9c46e47d9.wav\n",
      "Name: dabb68b4bb09f9aeb6d55ba9c46e47d9.wav, Audio URL: https://file01.fpt.ai/text2speech-v5/short/2025-05-18/dabb68b4bb09f9aeb6d55ba9c46e47d9.wav\n",
      "Duration of D:\\Downloads\\Đồ án_Voice\\dataset_custom\\vi\\clip\\dabb68b4bb09f9aeb6d55ba9c46e47d9.wav: 0.847063 seconds\n",
      "Audio downloaded: D:\\Downloads\\Đồ án_Voice\\dataset_custom\\vi\\clip\\0639e46a9f1a3015b29796cb2732e7d3.wav\n",
      "Name: 0639e46a9f1a3015b29796cb2732e7d3.wav, Audio URL: https://file01.fpt.ai/text2speech-v5/short/2025-05-18/0639e46a9f1a3015b29796cb2732e7d3.wav\n",
      "Duration of D:\\Downloads\\Đồ án_Voice\\dataset_custom\\vi\\clip\\0639e46a9f1a3015b29796cb2732e7d3.wav: 0.938063 seconds\n",
      "Audio downloaded: D:\\Downloads\\Đồ án_Voice\\dataset_custom\\vi\\clip\\4a0e5c557b9e2de05f1be9658c0c5bb8.wav\n",
      "Name: 4a0e5c557b9e2de05f1be9658c0c5bb8.wav, Audio URL: https://file01.fpt.ai/text2speech-v5/short/2025-05-18/4a0e5c557b9e2de05f1be9658c0c5bb8.wav\n",
      "Duration of D:\\Downloads\\Đồ án_Voice\\dataset_custom\\vi\\clip\\4a0e5c557b9e2de05f1be9658c0c5bb8.wav: 0.983563 seconds\n",
      "Audio downloaded: D:\\Downloads\\Đồ án_Voice\\dataset_custom\\vi\\clip\\a2a4414fda324be6a65e046fcff1272b.wav\n",
      "Name: a2a4414fda324be6a65e046fcff1272b.wav, Audio URL: https://file01.fpt.ai/text2speech-v5/short/2025-05-18/a2a4414fda324be6a65e046fcff1272b.wav\n",
      "Duration of D:\\Downloads\\Đồ án_Voice\\dataset_custom\\vi\\clip\\a2a4414fda324be6a65e046fcff1272b.wav: 0.966063 seconds\n",
      "Len Clip Duration Data: 9\n",
      "Len Validated Data: 9\n",
      "[{'client_id': 12, 'path': '66668bd41887ca6f45b2917eaa10896c.wav', 'sentence_id': np.int64(1), 'sentence': 'Bật đèn', 'gender': 'female_feminine', 'accents': 'northern', 'locale': 'vi', 'url': 'https://file01.fpt.ai/text2speech-v5/short/2025-05-18/66668bd41887ca6f45b2917eaa10896c.wav'}, {'client_id': 12, 'path': '46b0b5524f336ee80cf216d94302c81f.wav', 'sentence_id': np.int64(2), 'sentence': 'Tắt đèn', 'gender': 'female_feminine', 'accents': 'northern', 'locale': 'vi', 'url': 'https://file01.fpt.ai/text2speech-v5/short/2025-05-18/46b0b5524f336ee80cf216d94302c81f.wav'}, {'client_id': 12, 'path': 'b4652a372238626ade8fbb4e21c9257a.wav', 'sentence_id': np.int64(3), 'sentence': 'Tắt đèn ở mức sáng cao', 'gender': 'female_feminine', 'accents': 'northern', 'locale': 'vi', 'url': 'https://file01.fpt.ai/text2speech-v5/short/2025-05-18/b4652a372238626ade8fbb4e21c9257a.wav'}, {'client_id': 12, 'path': 'fee7b8a860f9766d72783ff85e4325f9.wav', 'sentence_id': np.int64(4), 'sentence': 'Bật đèn nếu trời tối', 'gender': 'female_feminine', 'accents': 'northern', 'locale': 'vi', 'url': 'https://file01.fpt.ai/text2speech-v5/short/2025-05-18/fee7b8a860f9766d72783ff85e4325f9.wav'}, {'client_id': 12, 'path': 'c7f797a1468b7afff94e329f9bd0319a.wav', 'sentence_id': np.int64(5), 'sentence': 'Bật đèn vào buổi tối', 'gender': 'female_feminine', 'accents': 'northern', 'locale': 'vi', 'url': 'https://file01.fpt.ai/text2speech-v5/short/2025-05-18/c7f797a1468b7afff94e329f9bd0319a.wav'}, {'client_id': 12, 'path': 'dabb68b4bb09f9aeb6d55ba9c46e47d9.wav', 'sentence_id': np.int64(6), 'sentence': 'Tắt đèn vào buổi sáng', 'gender': 'female_feminine', 'accents': 'northern', 'locale': 'vi', 'url': 'https://file01.fpt.ai/text2speech-v5/short/2025-05-18/dabb68b4bb09f9aeb6d55ba9c46e47d9.wav'}, {'client_id': 12, 'path': '0639e46a9f1a3015b29796cb2732e7d3.wav', 'sentence_id': np.int64(7), 'sentence': 'Bật quạt', 'gender': 'female_feminine', 'accents': 'northern', 'locale': 'vi', 'url': 'https://file01.fpt.ai/text2speech-v5/short/2025-05-18/0639e46a9f1a3015b29796cb2732e7d3.wav'}, {'client_id': 12, 'path': '4a0e5c557b9e2de05f1be9658c0c5bb8.wav', 'sentence_id': np.int64(8), 'sentence': 'Tắt quạt', 'gender': 'female_feminine', 'accents': 'northern', 'locale': 'vi', 'url': 'https://file01.fpt.ai/text2speech-v5/short/2025-05-18/4a0e5c557b9e2de05f1be9658c0c5bb8.wav'}, {'client_id': 12, 'path': 'a2a4414fda324be6a65e046fcff1272b.wav', 'sentence_id': np.int64(9), 'sentence': 'Bật quạt nếu trời nóng', 'gender': 'female_feminine', 'accents': 'northern', 'locale': 'vi', 'url': 'https://file01.fpt.ai/text2speech-v5/short/2025-05-18/a2a4414fda324be6a65e046fcff1272b.wav'}]\n"
     ]
    }
   ],
   "source": [
    "clip_duration_data = []\n",
    "validated_data = []\n",
    "chunk_size = 50\n",
    "for i, si in enumerate(speaker_id):\n",
    "    start = i * chunk_size\n",
    "    end = start + chunk_size\n",
    "    for index, audio_url in enumerate(audio_urls[start:]):\n",
    "        # Tạo tên file cho audio\n",
    "        filename = os.path.basename(urlparse(audio_url).path)\n",
    "        audio_filename = os.path.join(DATA_DIR, 'clip', filename)\n",
    "        check = download_audio(audio_url, audio_filename)\n",
    "        print(f\"Name: {filename}, Audio URL: {audio_url}\")\n",
    "\n",
    "        # Tải file âm thanh về\n",
    "        if check:\n",
    "            duration = get_audio_duration(audio_filename)\n",
    "            \n",
    "            if duration:\n",
    "                clip_duration_data.append({'path': filename, 'duration[ms]': duration*1000})\n",
    "\n",
    "                # Lưu thông tin vào validated_data\n",
    "                validated_data.append({'client_id': si,\n",
    "                                    'path': filename,\n",
    "                                    'sentence_id': commands_df['id'][index],\n",
    "                                    'sentence': commands_df['command'][index],\n",
    "                                    'gender': gender[si],\n",
    "                                    'accents': accents[si],\n",
    "                                    'locale': command_locale,\n",
    "                                    'url': audio_url\n",
    "                                    })\n",
    "\n",
    "print(\"Len Clip Duration Data:\", len(clip_duration_data))\n",
    "print(\"Len Validated Data:\", len(validated_data))\n",
    "print(validated_data)"
   ]
  },
  {
   "cell_type": "code",
   "execution_count": 41,
   "id": "9085c720",
   "metadata": {},
   "outputs": [
    {
     "name": "stdout",
     "output_type": "stream",
     "text": [
      "Process completed.\n"
     ]
    }
   ],
   "source": [
    "# Chuyển thông tin thành DataFrame và lưu vào các file TSV\n",
    "clip_duration_df = pd.DataFrame(clip_duration_data)\n",
    "clip_duration_df.to_csv(CLIP_DURATIONS_PATH, sep='\\t', index=False, mode='a', header=False)\n",
    "\n",
    "validated_df = pd.DataFrame(validated_data)\n",
    "validated_df.to_csv(VALIDATED_PATH  , sep='\\t', index=False, mode='a', header=False)\n",
    "\n",
    "print(\"Process completed.\")"
   ]
  },
  {
   "cell_type": "code",
   "execution_count": null,
   "id": "4bb1f580",
   "metadata": {},
   "outputs": [],
   "source": [
    "import csv\n",
    "\n",
    "def sort_tsv_by_path(input_file, output_file):\n",
    "    with open(input_file, 'r', encoding='utf-8') as f:\n",
    "        reader = list(csv.reader(f, delimiter='\\t'))\n",
    "        header = reader[0]\n",
    "        rows = reader[1:]\n",
    "    if input_file == 'D:/Downloads/Đồ án_Voice/dataset_custom/vi/clip_durations.tsv':\n",
    "        rows.sort(key=lambda row: row[0])\n",
    "    else:\n",
    "        rows.sort(key=lambda row: row[1])\n",
    "\n",
    "    with open(output_file, 'w', encoding='utf-8', newline='') as f:\n",
    "        writer = csv.writer(f, delimiter='\\t')\n",
    "        writer.writerow(header)\n",
    "        writer.writerows(rows)\n",
    "\n",
    "for file in os.listdir(DATA_DIR):\n",
    "    if file.endswith('.tsv'):\n",
    "        file_path = os.path.join(DATA_DIR, file)\n",
    "        sort_tsv_by_path(file_path, file_path)"
   ]
  }
 ],
 "metadata": {
  "kernelspec": {
   "display_name": "aio_hutech",
   "language": "python",
   "name": "python3"
  },
  "language_info": {
   "codemirror_mode": {
    "name": "ipython",
    "version": 3
   },
   "file_extension": ".py",
   "mimetype": "text/x-python",
   "name": "python",
   "nbconvert_exporter": "python",
   "pygments_lexer": "ipython3",
   "version": "3.12.3"
  }
 },
 "nbformat": 4,
 "nbformat_minor": 5
}
