{
 "cells": [
  {
   "cell_type": "code",
   "execution_count": 1,
   "id": "9a0919cf",
   "metadata": {},
   "outputs": [],
   "source": [
    "from transformers import pipeline, AutoTokenizer, AutoModel\n",
    "import torch\n",
    "from sklearn.metrics.pairwise import cosine_similarity\n",
    "import re\n"
   ]
  },
  {
   "cell_type": "code",
   "execution_count": 13,
   "id": "7639c2e2",
   "metadata": {},
   "outputs": [
    {
     "data": {
      "application/vnd.jupyter.widget-view+json": {
       "model_id": "39906a06707641ce899d7882afa08b81",
       "version_major": 2,
       "version_minor": 0
      },
      "text/plain": [
       "config.json:   0%|          | 0.00/1.33k [00:00<?, ?B/s]"
      ]
     },
     "metadata": {},
     "output_type": "display_data"
    },
    {
     "data": {
      "application/vnd.jupyter.widget-view+json": {
       "model_id": "1604af00c2b7410ebcaf8dd2f36b7c40",
       "version_major": 2,
       "version_minor": 0
      },
      "text/plain": [
       "model.safetensors:   0%|          | 0.00/967M [00:00<?, ?B/s]"
      ]
     },
     "metadata": {},
     "output_type": "display_data"
    },
    {
     "data": {
      "application/vnd.jupyter.widget-view+json": {
       "model_id": "8a2f8ea417a14663a29af2d3da6c8e16",
       "version_major": 2,
       "version_minor": 0
      },
      "text/plain": [
       "generation_config.json:   0%|          | 0.00/3.80k [00:00<?, ?B/s]"
      ]
     },
     "metadata": {},
     "output_type": "display_data"
    },
    {
     "data": {
      "application/vnd.jupyter.widget-view+json": {
       "model_id": "03b0e0e05df94d2fa6b747838ae09790",
       "version_major": 2,
       "version_minor": 0
      },
      "text/plain": [
       "tokenizer_config.json:   0%|          | 0.00/283k [00:00<?, ?B/s]"
      ]
     },
     "metadata": {},
     "output_type": "display_data"
    },
    {
     "data": {
      "application/vnd.jupyter.widget-view+json": {
       "model_id": "bf3a100f1f844d91a518d3c78f0bb2f0",
       "version_major": 2,
       "version_minor": 0
      },
      "text/plain": [
       "vocab.json:   0%|          | 0.00/1.04M [00:00<?, ?B/s]"
      ]
     },
     "metadata": {},
     "output_type": "display_data"
    },
    {
     "data": {
      "application/vnd.jupyter.widget-view+json": {
       "model_id": "2e74e5e59132456f8bbee4957ea72743",
       "version_major": 2,
       "version_minor": 0
      },
      "text/plain": [
       "merges.txt:   0%|          | 0.00/494k [00:00<?, ?B/s]"
      ]
     },
     "metadata": {},
     "output_type": "display_data"
    },
    {
     "data": {
      "application/vnd.jupyter.widget-view+json": {
       "model_id": "3b768ef452624214bf165278584ec089",
       "version_major": 2,
       "version_minor": 0
      },
      "text/plain": [
       "normalizer.json:   0%|          | 0.00/52.7k [00:00<?, ?B/s]"
      ]
     },
     "metadata": {},
     "output_type": "display_data"
    },
    {
     "data": {
      "application/vnd.jupyter.widget-view+json": {
       "model_id": "630366409ffc4cd99e5ffe726c5c76e7",
       "version_major": 2,
       "version_minor": 0
      },
      "text/plain": [
       "added_tokens.json:   0%|          | 0.00/34.6k [00:00<?, ?B/s]"
      ]
     },
     "metadata": {},
     "output_type": "display_data"
    },
    {
     "data": {
      "application/vnd.jupyter.widget-view+json": {
       "model_id": "73d3985e1cf54b0db020a5262331220c",
       "version_major": 2,
       "version_minor": 0
      },
      "text/plain": [
       "special_tokens_map.json:   0%|          | 0.00/2.19k [00:00<?, ?B/s]"
      ]
     },
     "metadata": {},
     "output_type": "display_data"
    },
    {
     "data": {
      "application/vnd.jupyter.widget-view+json": {
       "model_id": "3bdfb8d75e7f47bc8ecb9c6203828926",
       "version_major": 2,
       "version_minor": 0
      },
      "text/plain": [
       "preprocessor_config.json:   0%|          | 0.00/356 [00:00<?, ?B/s]"
      ]
     },
     "metadata": {},
     "output_type": "display_data"
    },
    {
     "name": "stderr",
     "output_type": "stream",
     "text": [
      "Device set to use cpu\n"
     ]
    }
   ],
   "source": [
    "device = 0 if torch.cuda.is_available() else -1\n",
    "\n",
    "asr_pipeline = pipeline(\n",
    "    \"automatic-speech-recognition\",\n",
    "    model=\"tuan8p/whisper-small-vi\",\n",
    "    device=device\n",
    ")\n",
    "\n",
    "tokenizer = AutoTokenizer.from_pretrained(\"sentence-transformers/paraphrase-multilingual-MiniLM-L12-v2\", trust_remote_code=True)\n",
    "model = AutoModel.from_pretrained(\"sentence-transformers/paraphrase-multilingual-MiniLM-L12-v2\", trust_remote_code=True, use_safetensors=True)"
   ]
  },
  {
   "cell_type": "code",
   "execution_count": 4,
   "id": "4e5dc0d7",
   "metadata": {},
   "outputs": [
    {
     "name": "stderr",
     "output_type": "stream",
     "text": [
      "We strongly recommend passing in an `attention_mask` since your input_ids may be padded. See https://huggingface.co/docs/transformers/troubleshooting#incorrect-output-when-padding-tokens-arent-masked.\n"
     ]
    }
   ],
   "source": [
    "def get_sentence_embedding(sentence: str) -> torch.Tensor:\n",
    "    \"\"\"Chuyển câu thành vector embedding trung bình (mean pooling).\"\"\"\n",
    "    input_ids = tokenizer.encode(sentence, return_tensors='pt')\n",
    "    with torch.no_grad():\n",
    "        outputs = model(input_ids)\n",
    "        last_hidden_state = outputs[0]  # (1, seq_len, hidden_dim)\n",
    "        sentence_embedding = last_hidden_state.mean(dim=1)  # (1, hidden_dim)\n",
    "    return sentence_embedding.squeeze(0)  # (hidden_dim,)\n",
    "\n",
    "# Mẫu câu lệnh và intent tương ứng\n",
    "intent_templates = {\n",
    "    \"bật đèn\": \"TURN_ON_LIGHT\",\n",
    "    # \"mở đèn\": \"TURN_ON_LIGHT\",\n",
    "    # \"đèn bật\": \"TURN_ON_LIGHT\",\n",
    "    \"không tắt đèn\": \"TURN_ON_LIGHT\",\n",
    "    # \"đèn sáng\": \"TURN_ON_LIGHT\",\n",
    "    \"tối quá\": \"TURN_ON_LIGHT\",\n",
    "    \"không thấy gì\": \"TURN_ON_LIGHT\",\n",
    "    \"tối như mực\": \"TURN_ON_LIGHT\",\n",
    "    \"tối rồi\": \"TURN_ON_LIGHT\",\n",
    "    # \"đèn tắt\": \"TURN_OFF_LIGHT\",\n",
    "    \"tắt đèn\": \"TURN_OFF_LIGHT\",\n",
    "    # \"đèn không sáng\": \"TURN_OFF_LIGHT\",\n",
    "    # \"đèn không mở\": \"TURN_OFF_LIGHT\",\n",
    "    \"không bật đèn\": \"TURN_OFF_LIGHT\",\n",
    "    \"sáng quá\": \"TURN_OFF_LIGHT\",\n",
    "    \"chói quá\": \"TURN_OFF_LIGHT\",\n",
    "    \"sáng rồi\": \"TURN_OFF_LIGHT\",\n",
    "\n",
    "    \"bật quạt\": \"TURN_ON_FAN\",\n",
    "    \"tắt quạt\": \"TURN_OFF_FAN\",\n",
    "    # \"quạt chạy\": \"TURN_ON_FAN\",\n",
    "    \"quạt không ngừng\": \"TURN_ON_FAN\",\n",
    "    \"nóng quá\": \"TURN_ON_FAN\",\n",
    "    \"hầm quá\": \"TURN_ON_FAN\",\n",
    "    # \"mở quạt\": \"TURN_ON_FAN\",\n",
    "    # \"quạt mở\": \"TURN_ON_FAN\",\n",
    "    \"quạt ngừng\": \"TURN_OFF_FAN\",\n",
    "    # \"quạt không chạy\": \"TURN_OFF_FAN\",\n",
    "    \"không tắt quạt\": \"TURN_ON_FAN\",\n",
    "    # \"quạt không mở\": \"TURN_OFF_FAN\",\n",
    "    \"không bật quạt\": \"TURN_OFF_FAN\",\n",
    "    \"lạnh quá\": \"TURN_OFF_FAN\",\n",
    "    # \"rét quá\": \"TURN_OFF_FAN\",\n",
    "\n",
    "    \"mở cửa\": \"OPEN_DOOR\",\n",
    "    \"mở khóa cửa\": \"OPEN_DOOR\",\n",
    "    \"tắt khóa cửa\": \"OPEN_DOOR\",\n",
    "    # \"cửa mở\": \"OPEN_DOOR\",\n",
    "    \"không đóng cửa\": \"OPEN_DOOR\",\n",
    "    # \"tôi chuẩn bị ra ngoài\": \"OPEN_DOOR\",\n",
    "    \"tôi sắp ra ngoài\": \"OPEN_DOOR\",\n",
    "    \"tôi chuẩn bị về nhà\": \"OPEN_DOOR\",\n",
    "    # \"tôi đi ra ngoài\": \"OPEN_DOOR\",\n",
    "    \"đóng cửa\": \"CLOSE_DOOR\",\n",
    "    \"khóa cửa\": \"CLOSE_DOOR\",\n",
    "    # \"cửa đóng\": \"CLOSE_DOOR\",\n",
    "    \"không mở cửa\": \"CLOSE_DOOR\",\n",
    "    \"tôi ra ngoài rồi\": \"CLOSE_DOOR\",\n",
    "    # \"tôi về nhà rồi\": \"CLOSE_DOOR\",\n",
    "    \"tôi vô nhà rồi\": \"CLOSE_DOOR\",\n",
    "    # \"tôi về rồi\": \"CLOSE_DOOR\",\n",
    "\n",
    "    \"bật chế độ ban đêm\": \"TURN_ON_LIGHT_AND_TURN_ON_FAN_AND_CLOSE_DOOR\",\n",
    "    \"tắt chế độ ban đêm\": \"TURN_OFF_LIGHT_AND_TURN_OFF_FAN_AND_OPEN_DOOR\",\n",
    "    \"bật chế độ an ninh\": \"CLOSE_DOOR_AND_TURN_ON_FACE_DETECTION\",\n",
    "    \"tắt chế độ an ninh\": \"OPEN_DOOR_AND_TURN_OFF_FACE_DETECTION\",\n",
    "    \"bật tất cả thiết bị\": \"TURN_ON_LIGHT_AND_TURN_ON_FAN_AND_OPEN_DOOR\",\n",
    "    \"tắt tất cả thiết bị\": \"TURN_OFF_LIGHT_AND_TURN_OFF_FAN_AND_CLOSE_DOOR\",\n",
    "}\n",
    "\n",
    "# Hàm embedding\n",
    "def get_sentence_embedding(sentence: str) -> torch.Tensor:\n",
    "    input_ids = tokenizer.encode(sentence, return_tensors='pt')\n",
    "    with torch.no_grad():\n",
    "        outputs = model(input_ids)\n",
    "        last_hidden_state = outputs[0]\n",
    "        sentence_embedding = last_hidden_state.mean(dim=1)\n",
    "    return sentence_embedding.squeeze(0)\n",
    "\n",
    "# Lưu sẵn embeddings của intent mẫu\n",
    "template_embeddings = {k: get_sentence_embedding(k) for k in intent_templates.keys()}\n",
    "\n",
    "# Trích xuất điều kiện số (temperature, humidity, time)\n",
    "def extract_numeric_condition(sentence: str) -> dict:\n",
    "    patterns = [\n",
    "        # Nhiệt độ\n",
    "        (# vd: nhiệt độ khoảng 30 độ C\n",
    "            r\"(nhiệt độ|nóng|lạnh) .*? (\\d+)? .*?\",\n",
    "            \"temperature\"\n",
    "        ),\n",
    "        (# vd: nhiệt độ 30 độ C\n",
    "            r\"(nhiệt độ|nóng|lạnh) (\\d+)? .*?\",\n",
    "            \"temperature\"\n",
    "        ),\n",
    "        (# vd: nhiệt độ cao/thấp\n",
    "            r\"(nhiệt độ|nóng|lạnh) .*?\",\n",
    "            \"temperature\"\n",
    "        ),\n",
    "        (\n",
    "            r\"(nóng|lạnh)\",\n",
    "            \"temperature\"\n",
    "        ),\n",
    "        # Độ ẩm\n",
    "        (# vd: độ ẩm khoảng 70%\n",
    "            r\"(độ ẩm|nồm|khô) .*? (\\d+)?\",\n",
    "            \"humidity\"\n",
    "        ),\n",
    "        (# vd: độ ẩm 70%\n",
    "            r\"(độ ẩm|nồm|khô) (\\d+)? .*?\",\n",
    "            \"humidity\"\n",
    "        ),\n",
    "        (# vd: độ ẩm cao/thấp/khô/ẩm/ít/nhiều\n",
    "            r\"(độ ẩm|nồm|khô) .*?\",\n",
    "            \"humidity\"\n",
    "        ),\n",
    "        (\n",
    "            r\"(ẩm|nồm|khô)\",\n",
    "            \"humidity\"\n",
    "        ),\n",
    "        # Ánh sáng\n",
    "        (\n",
    "            r\"(sáng|tối)\",\n",
    "            \"light\"\n",
    "        ),\n",
    "        # Quạt\n",
    "        (# vd: mức khoảng 70%\n",
    "            r\"(mức|tốc độ|quay) .*? (\\d+)?\",\n",
    "            \"fan\"\n",
    "        ),\n",
    "        (# vd: mức 70%\n",
    "            r\"(mức|tốc độ|quay) (\\d+)? .*?\",\n",
    "            \"fan\"\n",
    "        ),\n",
    "        (# vd: mức 1/2/3\n",
    "            r\"(mức|tốc độ) (\\d+)?\",\n",
    "            \"fan\"\n",
    "        ),\n",
    "        (# vd: mức cao/thấp/vừa\n",
    "            r\"(mức|tốc độ|quay) .*?\",\n",
    "            \"fan\"\n",
    "        ),\n",
    "        (\n",
    "            r\"(nhanh|mạnh|cao|chậm|yếu|thấp|vừa|thường)\",\n",
    "            \"fan\"\n",
    "        ),\n",
    "        # Thời gian\n",
    "        (\n",
    "            r\"(sau)\\s*\"\n",
    "            r\"(?:(?P<hour>\\d+)\\s*(giờ|h|g)\\s*)?\"\n",
    "            r\"(?:(?P<minute>\\d+)\\s*(phút|p|m)\\s*)?\"\n",
    "            r\"(?:(?P<second>\\d+)\\s*(giây|s))?\",\n",
    "            \"time\"\n",
    "        )\n",
    "    ]\n",
    "\n",
    "    for pattern, sensor in patterns:\n",
    "        match = re.search(pattern, sentence, re.IGNORECASE)\n",
    "        # print(pattern)\n",
    "        if match:\n",
    "            val = None\n",
    "            unit = \"\"\n",
    "            op = \"=\"\n",
    "\n",
    "            if any(kw in sentence for kw in [\"trên\", \"nóng\", \"nhiều hơn\", \"ẩm\", \"nồm\", \"cao\"]):\n",
    "                op = \">\"\n",
    "                if \"độ ẩm\" in sentence and not any(kw in sentence for kw in [\"trên\", \"nhiều hơn\", \"nồm\", \"cao\"]):\n",
    "                    op = \"=\"\n",
    "            elif any(kw in sentence for kw in [\"dưới\", \"lạnh\", \"ít hơn\", \"khô\", \"thấp\"]):\n",
    "                op = \"<\"\n",
    "            print(f\"match: {match.groups()}\")\n",
    "            if sensor == \"time\":\n",
    "                unit = \"seconds\"\n",
    "                hour = int(match.group(\"hour\")) if match.group(\"hour\") else 0\n",
    "                minute = int(match.group(\"minute\")) if match.group(\"minute\") else 0\n",
    "                second = int(match.group(\"second\")) if match.group(\"second\") else 0\n",
    "                val = hour * 3600 + minute * 60 + second\n",
    "            elif sensor == \"temperature\":\n",
    "                unit = \"°C\"\n",
    "                if len(match.groups()) > 1:\n",
    "                    if match.group(2):\n",
    "                        op = \"=\"\n",
    "                        val = int(match.group(2))\n",
    "                        if any(kw in sentence for kw in [\"độ k\", \"°k\", \"°ka\", \"độ ka\", \"độ ca\", \"°ca\"]) and \"độ khoảng\" not in sentence:\n",
    "                            val -= 273\n",
    "                elif any(kw in sentence for kw in [\"nóng\", \"cao\"]):\n",
    "                    val = 30\n",
    "                elif any(kw in sentence for kw in [\"lạnh\", \"thấp\"]):\n",
    "                    val = 20\n",
    "            elif sensor == \"humidity\":\n",
    "                unit = \"%\"\n",
    "                if len(match.groups()) > 1:\n",
    "                    if match.group(2):\n",
    "                        op = \"=\"\n",
    "                        val = int(match.group(2))\n",
    "                elif any(kw in sentence for kw in [\"khô\", \"thấp\", \"ít\"]):\n",
    "                    val = 30\n",
    "                elif \"nồm\" in sentence:\n",
    "                    val = 90\n",
    "                elif any(kw in sentence for kw in [\"cao\", \"nhiều\"]):\n",
    "                    val = 70\n",
    "                elif \"ẩm\" in sentence and \"độ ẩm\" not in sentence:\n",
    "                    val = 70\n",
    "            elif sensor == \"light\":\n",
    "                unit = \"lux\"\n",
    "                if \"tối\" in sentence:\n",
    "                    op = \"<\"\n",
    "                    val = 20\n",
    "                elif \"sáng\" in sentence:\n",
    "                    op = \">\"\n",
    "                    val = 30\n",
    "            elif sensor == \"fan\":\n",
    "                unit = \"%\"\n",
    "                if len(match.groups()) > 1:\n",
    "                    if match.group(2):\n",
    "                        op = \"=\"\n",
    "                        val = int(match.group(2))\n",
    "                        if val == 1:# 1 là mức thấp nhất\n",
    "                            val = 30\n",
    "                        elif val == 2:\n",
    "                            val = 70\n",
    "                        elif val == 3:\n",
    "                            val = 100\n",
    "                elif any(kw in sentence for kw in [\"nhanh\", \"mạnh\", \"cao\"]):\n",
    "                    val = 100\n",
    "                elif any(kw in sentence for kw in [\"chậm\", \"yếu\", \"thấp\"]):\n",
    "                    val = 30\n",
    "                elif any(kw in sentence for kw in [\"vừa\", \"thường\"]):\n",
    "                    val = 70\n",
    "\n",
    "            return {\n",
    "                \"sensor\": sensor,\n",
    "                \"op\": op,\n",
    "                \"value\": val,\n",
    "                \"unit\": unit\n",
    "            }\n",
    "\n",
    "    return None\n",
    "\n",
    "# Dự đoán intent + điều kiện\n",
    "def nlp_pipeline(sentence: str) -> dict:\n",
    "    condition = extract_numeric_condition(sentence)\n",
    "    sentence_wo_condition = re.sub(r\"khi .*|nếu .*|lúc .*|khi trời .*|nếu trời .*|lúc trời .*|sau .*\", \"\", sentence).strip()\n",
    "\n",
    "    emb = get_sentence_embedding(sentence_wo_condition).unsqueeze(0)\n",
    "    sims = {}\n",
    "    for template, template_emb in template_embeddings.items():\n",
    "        template_emb = template_emb.unsqueeze(0)\n",
    "        sim = cosine_similarity(emb, template_emb)[0][0]\n",
    "        sims[template] = sim\n",
    "    best_template = max(sims, key=sims.get)\n",
    "\n",
    "    return {\n",
    "        \"sentence\": sentence,\n",
    "        \"intent\": intent_templates[best_template],\n",
    "        \"matched_template\": best_template,\n",
    "        \"similarity\": float(sims[best_template]),\n",
    "        \"condition\": condition\n",
    "    }"
   ]
  },
  {
   "cell_type": "code",
   "execution_count": 16,
   "id": "039d530f",
   "metadata": {},
   "outputs": [
    {
     "name": "stderr",
     "output_type": "stream",
     "text": [
      "c:\\Users\\LENOVO\\anaconda3\\envs\\aio_hutech\\Lib\\site-packages\\transformers\\models\\whisper\\generation_whisper.py:573: FutureWarning: The input name `inputs` is deprecated. Please make sure to use `input_features` instead.\n",
      "  warnings.warn(\n"
     ]
    },
    {
     "name": "stdout",
     "output_type": "stream",
     "text": [
      "ASR Result: mở cửa\n"
     ]
    }
   ],
   "source": [
    "import os\n",
    "import pandas as pd\n",
    "voice_dir = r\"D:\\Downloads\\Đồ án_Voice\\dataset_custom\\vi\\clip\"\n",
    "test_label = r\"D:\\Downloads\\Đồ án_Voice\\dataset_custom\\vi\\test.tsv\"\n",
    "\n",
    "test_label_list = pd.read_csv(test_label, sep='\\t')\n",
    "count = 0\n",
    "# for index, row in test_label_list.iterrows():\n",
    "#     label = row['sentence'].lower().strip()\n",
    "#     label = re.sub(r'\\s+', ' ', label)  # Loại bỏ khoảng trắng thừa\n",
    "#     label = re.sub(r'[^\\w\\s]', '', label)  # Loại bỏ dấu câu\n",
    "#     sentence = os.path.join(voice_dir, row['path'])\n",
    "#     # print(f\"Processing: {label} - {sentence}\")\n",
    "#     asr_result = asr_pipeline(sentence)\n",
    "#     if asr_result['text'] != label:\n",
    "#         print(f\"Audio {index}: {row['path']}\")\n",
    "#         print(f\"Mismatch: Expected '{label}', got '{asr_result['text']}'\")\n",
    "#         count += 1\n",
    "asr_result = asr_pipeline(r'D:\\Downloads\\Đồ án_Voice\\recorded.wav')\n",
    "print(f\"ASR Result: {asr_result['text']}\")\n",
    "# print(f\"Accuracy: {1-count / len(test_label_list) * 100:.2f}%\")\n",
    "    # print(f\"ASR Result: {asr_result['text']}\")"
   ]
  },
  {
   "cell_type": "code",
   "execution_count": 6,
   "id": "958d2234",
   "metadata": {},
   "outputs": [
    {
     "name": "stdout",
     "output_type": "stream",
     "text": [
      "match: ('sau', '18', 'giờ', '27', 'phút', None, None)\n",
      "\n",
      "🟢 Input: bật quạt sau 18 giờ 27 phút nữa\n",
      "➡ Intent: TURN_ON_FAN\n",
      "➡ Condition: {'sensor': 'time', 'op': '=', 'value': 66420, 'unit': 'seconds'}\n",
      "➡ Matched template: bật quạt\n",
      "➡ Similarity: 1.0000\n",
      "match: ('sau', None, None, '27', 'phút', None, None)\n",
      "\n",
      "🟢 Input: bật quạt sau 27 phút á\n",
      "➡ Intent: TURN_ON_FAN\n",
      "➡ Condition: {'sensor': 'time', 'op': '=', 'value': 1620, 'unit': 'seconds'}\n",
      "➡ Matched template: bật quạt\n",
      "➡ Similarity: 1.0000\n",
      "match: ('mức', '70')\n",
      "\n",
      "🟢 Input: bật quạt mức 70%\n",
      "➡ Intent: TURN_ON_FAN\n",
      "➡ Condition: {'sensor': 'fan', 'op': '=', 'value': 70, 'unit': '%'}\n",
      "➡ Matched template: bật quạt\n",
      "➡ Similarity: 0.3980\n",
      "match: ('mức', '1')\n",
      "\n",
      "🟢 Input: bật quạt mức 1\n",
      "➡ Intent: TURN_ON_FAN\n",
      "➡ Condition: {'sensor': 'fan', 'op': '=', 'value': 30, 'unit': '%'}\n",
      "➡ Matched template: bật quạt\n",
      "➡ Similarity: 0.7622\n"
     ]
    }
   ],
   "source": [
    "test_sentences = [\n",
    "    \"bật quạt sau 18 giờ 27 phút nữa\",\n",
    "    \"bật quạt sau 27 phút á\",\n",
    "    \"bật quạt mức 70%\",\n",
    "    \"bật quạt mức 1\",\n",
    "]\n",
    "\n",
    "for s in test_sentences:\n",
    "    result = nlp_pipeline(s)\n",
    "    print(f\"\\n🟢 Input: {s}\")\n",
    "    print(f\"➡ Intent: {result['intent']}\")\n",
    "    if result[\"condition\"]:\n",
    "        print(f\"➡ Condition: {result['condition']}\")\n",
    "    print(f\"➡ Matched template: {result['matched_template']}\")\n",
    "    print(f\"➡ Similarity: {result['similarity']:.4f}\")"
   ]
  }
 ],
 "metadata": {
  "kernelspec": {
   "display_name": "aio_hutech",
   "language": "python",
   "name": "python3"
  },
  "language_info": {
   "codemirror_mode": {
    "name": "ipython",
    "version": 3
   },
   "file_extension": ".py",
   "mimetype": "text/x-python",
   "name": "python",
   "nbconvert_exporter": "python",
   "pygments_lexer": "ipython3",
   "version": "3.12.3"
  }
 },
 "nbformat": 4,
 "nbformat_minor": 5
}
